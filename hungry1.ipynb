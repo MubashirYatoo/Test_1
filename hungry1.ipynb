{
 "cells": [
  {
   "cell_type": "code",
   "execution_count": null,
   "id": "8aae0e2c",
   "metadata": {},
   "outputs": [],
   "source": [
    "hungry = input('Are you Hungry: ')\n",
    "if hungry ==1:\n",
    "    print('Eat Samosa')\n",
    "    print('Eat Pizza')\n",
    "else:\n",
    "    print('Do your Homework')"
   ]
  }
 ],
 "metadata": {
  "kernelspec": {
   "display_name": "Python 3 (ipykernel)",
   "language": "python",
   "name": "python3"
  },
  "language_info": {
   "codemirror_mode": {
    "name": "ipython",
    "version": 3
   },
   "file_extension": ".py",
   "mimetype": "text/x-python",
   "name": "python",
   "nbconvert_exporter": "python",
   "pygments_lexer": "ipython3",
   "version": "3.10.7"
  }
 },
 "nbformat": 4,
 "nbformat_minor": 5
}
